{
 "cells": [
  {
   "cell_type": "code",
   "execution_count": null,
   "id": "fbcc792e-8464-4bcc-bd52-ba674651b23e",
   "metadata": {},
   "outputs": [],
   "source": [
    "import pandas as pd\n",
    "import numpy as np\n",
    "import folium\n",
    "from folium.plugins import HeatMap, MarkerCluster, HeatMapWithTime\n",
    "import matplotlib.pyplot as plt"
   ]
  },
  {
   "cell_type": "code",
   "execution_count": null,
   "id": "4ddb90d2-c19b-45ca-85dd-3f76c9ed12dc",
   "metadata": {},
   "outputs": [],
   "source": [
    "crime = pd.read_csv(\"Data/NYPD_Complaint_Folium.csv\")\n",
    "crime"
   ]
  },
  {
   "cell_type": "code",
   "execution_count": null,
   "id": "37203ac1-bb67-404f-8717-43b8a6d0e547",
   "metadata": {},
   "outputs": [],
   "source": [
    "crime.info()"
   ]
  },
  {
   "cell_type": "code",
   "execution_count": null,
   "id": "76717988-9823-469b-8de5-f1418b9ed1a7",
   "metadata": {},
   "outputs": [],
   "source": [
    "crime_2021mar = crime[(crime[\"year\"] == 2021) & (crime[\"month\"] == 3)]"
   ]
  },
  {
   "cell_type": "code",
   "execution_count": null,
   "id": "115a516d-fc2b-4b5c-af7e-574afc1b5c74",
   "metadata": {},
   "outputs": [],
   "source": [
    "locations = list(zip(crime_2021mar[\"lat_rnd\"], crime_2021mar[\"lon_rnd\"]))"
   ]
  },
  {
   "cell_type": "code",
   "execution_count": null,
   "id": "73566a79-4b5a-43f3-b6d5-79eb30bb4310",
   "metadata": {},
   "outputs": [],
   "source": [
    "base_map = folium.Map(location = [40.730610, -73.935242], tiles = \"cartodbpositron\", zoom_start = 11)\n",
    "# heatmap = HeatMap(locations, radius = 5, blur = 2).add_to(base_map)"
   ]
  },
  {
   "cell_type": "code",
   "execution_count": null,
   "id": "a766d927-7c00-4d0e-9f92-8f9e392c547d",
   "metadata": {},
   "outputs": [],
   "source": [
    "cluster = MarkerCluster().add_to(base_map)"
   ]
  },
  {
   "cell_type": "code",
   "execution_count": null,
   "id": "a59981bc-12af-4e0b-9eb3-240a32e68201",
   "metadata": {},
   "outputs": [],
   "source": [
    "for x in crime.iterrows():\n",
    "    folium.Marker([x[1].lat_rnd, x[1].lon_rnd]).add_to(cluster)"
   ]
  },
  {
   "cell_type": "code",
   "execution_count": null,
   "id": "46238ed7-2899-4191-a093-90cf750a05af",
   "metadata": {},
   "outputs": [],
   "source": [
    "base_map"
   ]
  },
  {
   "cell_type": "code",
   "execution_count": null,
   "id": "d292d8fb-7227-406d-8d70-15f8425ee543",
   "metadata": {},
   "outputs": [],
   "source": [
    "index_list = []\n",
    "for i in range(2006, 2022):\n",
    "    for j in range(1, 13):\n",
    "        date = str(j) + \"/\" + str(i)\n",
    "        index_list.append(date)"
   ]
  },
  {
   "cell_type": "code",
   "execution_count": null,
   "id": "2f950db5-4a86-4b62-9faf-e10904729f0c",
   "metadata": {},
   "outputs": [],
   "source": [
    "crime[\"month_year\"] = crime[\"month\"].astype(str) + \"/\" + crime[\"year\"].astype(str)"
   ]
  },
  {
   "cell_type": "code",
   "execution_count": null,
   "id": "71fe7d3b-869d-4bbc-8448-4d96db31076d",
   "metadata": {},
   "outputs": [],
   "source": [
    "crime[\"count\"] = 1"
   ]
  },
  {
   "cell_type": "code",
   "execution_count": null,
   "id": "f37115aa-cbbe-45a0-aec2-7fa8e662918a",
   "metadata": {},
   "outputs": [],
   "source": [
    "weight_list = []"
   ]
  },
  {
   "cell_type": "code",
   "execution_count": null,
   "id": "156a5c11-1704-4a00-a3e4-d7fcd3ffeb2c",
   "metadata": {},
   "outputs": [],
   "source": [
    "for x in crime[\"month_year\"].sort_values().unique():\n",
    "    weight_list.append(crime.loc[crime[\"month_year\"] == x, [\"lat_rnd\", \"lon_rnd\", \"count\"]].groupby([\"lat_rnd\", \"lon_rnd\"]).sum().reset_index().values.tolist())"
   ]
  },
  {
   "cell_type": "code",
   "execution_count": null,
   "id": "dc0dbd58-5335-4e27-a524-9b7c00175337",
   "metadata": {},
   "outputs": [],
   "source": [
    "HeatMapWithTime(weight_list, radius = 10, index = index_list, auto_play = True, max_opacity = 0.7).add_to(base_map)"
   ]
  }
 ],
 "metadata": {
  "kernelspec": {
   "display_name": "Python 3 (ipykernel)",
   "language": "python",
   "name": "python3"
  },
  "language_info": {
   "codemirror_mode": {
    "name": "ipython",
    "version": 3
   },
   "file_extension": ".py",
   "mimetype": "text/x-python",
   "name": "python",
   "nbconvert_exporter": "python",
   "pygments_lexer": "ipython3",
   "version": "3.9.12"
  }
 },
 "nbformat": 4,
 "nbformat_minor": 5
}
